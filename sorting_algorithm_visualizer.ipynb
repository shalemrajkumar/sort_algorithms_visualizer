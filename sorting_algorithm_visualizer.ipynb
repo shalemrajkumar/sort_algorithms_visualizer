{
 "cells": [
  {
   "cell_type": "markdown",
   "id": "8b13f053",
   "metadata": {},
   "source": [
    "### imports"
   ]
  },
  {
   "cell_type": "code",
   "execution_count": 34,
   "id": "3e74c7cd",
   "metadata": {},
   "outputs": [
    {
     "name": "stdout",
     "output_type": "stream",
     "text": [
      "Requirement already satisfied: pygame in c:\\users\\91628\\anaconda3\\lib\\site-packages (2.5.1)\n"
     ]
    }
   ],
   "source": [
    "import numpy as np\n",
    "import math\n",
    "!pip install pygame\n",
    "import pygame\n",
    "\n",
    "pygame.init()\n",
    "np.random.seed(seed=10)"
   ]
  },
  {
   "cell_type": "markdown",
   "id": "2cbbdef7",
   "metadata": {},
   "source": [
    "## Drawing using pygame"
   ]
  },
  {
   "cell_type": "code",
   "execution_count": 35,
   "id": "759fea8d",
   "metadata": {},
   "outputs": [],
   "source": [
    "class draw_information:\n",
    "    black = 0, 0, 0\n",
    "    white = 255, 255, 255\n",
    "    green = 0, 255, 0\n",
    "    red = 255, 0, 0\n",
    "    bg = white\n",
    "    \n",
    "    font = pygame.font.SysFont('comicsans', 30)\n",
    "    large_font = pygame.font.SysFont('comicsans', 40)\n",
    "\n",
    "    side_pad = 100\n",
    "    top_pad = 150\n",
    "    \n",
    "    gradients = [\n",
    "        (128, 128, 128),\n",
    "        (160, 160, 160),\n",
    "        (192, 192, 192)]\n",
    "    \n",
    "    def __init__(self, width, height, lst):\n",
    "        self.width = width\n",
    "        self.width = width\n",
    "        self.height = height\n",
    "\n",
    "        self.window = pygame.display.set_mode((width, height))    # window setup\n",
    "        pygame.display.set_caption(\"Sorting_Algorithm_Visualization\")\n",
    "        self.set_list(lst)\n",
    "        \n",
    "    def set_list(self, lst):\n",
    "        self.lst = lst\n",
    "        self.min_val = min(lst)\n",
    "        self.max_val = max(lst)\n",
    "\n",
    "        self.block_width = round((self.width - self.side_pad) / len(lst))  #Block width\n",
    "        self.block_height = math.floor((self.height - self.top_pad) / (self.max_val - self.min_val))  #Block width\n",
    "        self.start_x = self.side_pad // 2        #start drawing"
   ]
  },
  {
   "cell_type": "markdown",
   "id": "13a470c5",
   "metadata": {},
   "source": [
    "### Imp_fun"
   ]
  },
  {
   "cell_type": "markdown",
   "id": "f0292d59",
   "metadata": {},
   "source": [
    "### generate_list"
   ]
  },
  {
   "cell_type": "code",
   "execution_count": 36,
   "id": "bb1b75ac",
   "metadata": {},
   "outputs": [],
   "source": [
    "def generate_starting_list(n, min_val, max_val):\n",
    "#     lst = []\n",
    "    lst = list(np.random.randint(min_val, high = max_val, size=n))\n",
    "#     for _ in range(n):\n",
    "#         val = random.randint(min_val, max_val)\n",
    "#         lst.append(val)\n",
    "\n",
    "    return lst"
   ]
  },
  {
   "cell_type": "markdown",
   "id": "da123a8d",
   "metadata": {},
   "source": [
    "### Drawing_pygame_functions"
   ]
  },
  {
   "cell_type": "code",
   "execution_count": 37,
   "id": "81ab7764",
   "metadata": {},
   "outputs": [],
   "source": [
    "def draw(draw_info, algo_name, ascending):\n",
    "    draw_info.window.fill(draw_info.bg)\n",
    "\n",
    "    title = draw_info.large_font.render(f\"{algo_name} - {'Ascending' if ascending else 'Descending'}\", 1, draw_info.green)\n",
    "    draw_info.window.blit(title, (draw_info.width/2 - title.get_width()/2.5 , 5))\n",
    "\n",
    "    controls = draw_info.font.render(\"R - Reset | SPACE - Start Sorting | A - Ascending | D - Descending\", 1, draw_info.black)\n",
    "    draw_info.window.blit(controls, (draw_info.width/2 - controls.get_width()/3 , 45))\n",
    "\n",
    "    sorting = draw_info.font.render(\"I - Insertion Sort | B - Bubble Sort\", 1, draw_info.black)\n",
    "    draw_info.window.blit(sorting, (draw_info.width/2 - sorting.get_width()/2.5 , 75))\n",
    "\n",
    "    draw_list(draw_info)\n",
    "    pygame.display.update()\n",
    "    \n",
    "    \n",
    "def draw_list(draw_info, color_positions={}, clear_bg=False):\n",
    "    lst = draw_info.lst\n",
    "\n",
    "    if clear_bg:\n",
    "        clear_rect = (draw_info.side_pad//2, draw_info.top_pad, \n",
    "                        draw_info.width - draw_info.side_pad, draw_info.height - draw_info.top_pad)\n",
    "        pygame.draw.rect(draw_info.window, draw_info.bg, clear_rect)\n",
    "\n",
    "    for i, val in enumerate(lst):\n",
    "        x = draw_info.start_x + i * draw_info.block_width\n",
    "        y = draw_info.height - (val - draw_info.min_val) * draw_info.block_height\n",
    "\n",
    "        color = draw_info.gradients[i % 3]\n",
    "\n",
    "        if i in color_positions:\n",
    "            color = color_positions[i] \n",
    "\n",
    "        pygame.draw.rect(draw_info.window, color, (x, y, draw_info.block_width, draw_info.height))\n",
    "\n",
    "    if clear_bg:\n",
    "        pygame.display.update()\n"
   ]
  },
  {
   "cell_type": "markdown",
   "id": "f41bf7f6",
   "metadata": {},
   "source": [
    "### Sorting_Algorithms"
   ]
  },
  {
   "cell_type": "markdown",
   "id": "3c28cc4b",
   "metadata": {},
   "source": [
    "#### Bubble_Sort"
   ]
  },
  {
   "cell_type": "code",
   "execution_count": 38,
   "id": "43f04729",
   "metadata": {},
   "outputs": [],
   "source": [
    "def bubble_sort(draw_info, ascending=True):\n",
    "    lst = draw_info.lst\n",
    "\n",
    "    for i in range(len(lst) - 1):\n",
    "        for j in range(len(lst) - 1 - i):\n",
    "            num1 = lst[j]\n",
    "            num2 = lst[j + 1]\n",
    "\n",
    "            if (num1 > num2 and ascending) or (num1 < num2 and not ascending):\n",
    "                lst[j], lst[j + 1] = lst[j + 1], lst[j]\n",
    "                draw_list(draw_info, {j: draw_info.green, j + 1: draw_info.red}, True)\n",
    "                yield True"
   ]
  },
  {
   "cell_type": "markdown",
   "id": "1cfb2618",
   "metadata": {},
   "source": [
    "#### Insersection_sort"
   ]
  },
  {
   "cell_type": "code",
   "execution_count": 39,
   "id": "5690f7b2",
   "metadata": {},
   "outputs": [],
   "source": [
    "def insertion_sort(draw_info, ascending=True):\n",
    "    lst = draw_info.lst\n",
    "\n",
    "    for i in range(1, len(lst)):\n",
    "        current = lst[i]\n",
    "\n",
    "        while True:\n",
    "            ascending_sort = i > 0 and lst[i - 1] > current and ascending\n",
    "            descending_sort = i > 0 and lst[i - 1] < current and not ascending\n",
    "\n",
    "            if not ascending_sort and not descending_sort:\n",
    "                break\n",
    "\n",
    "            lst[i] = lst[i - 1]\n",
    "            i = i - 1\n",
    "            lst[i] = current\n",
    "            draw_list(draw_info, {i - 1: draw_info.GREEN, i: draw_info.RED}, True)\n",
    "            yield True\n",
    "\n",
    "    return lst"
   ]
  },
  {
   "cell_type": "markdown",
   "id": "673cf3f9",
   "metadata": {},
   "source": [
    "### Main()"
   ]
  },
  {
   "cell_type": "code",
   "execution_count": 40,
   "id": "07882b27",
   "metadata": {},
   "outputs": [],
   "source": [
    "def main():\n",
    "    run = True\n",
    "    clock = pygame.time.Clock()\n",
    "\n",
    "    n = 50\n",
    "    min_val = 0\n",
    "    max_val = 100\n",
    "\n",
    "    lst = generate_starting_list(n, min_val, max_val)\n",
    "    draw_info = draw_information(800, 600, lst)\n",
    "    sorting = False\n",
    "    ascending = True\n",
    "\n",
    "    sorting_algorithm = bubble_sort\n",
    "    sorting_algo_name = \"Bubble Sort\"\n",
    "    sorting_algorithm_generator = None\n",
    "\n",
    "    while run:\n",
    "        clock.tick(60)\n",
    "\n",
    "        if sorting:\n",
    "            try:\n",
    "                next(sorting_algorithm_generator)\n",
    "            except StopIteration:\n",
    "                sorting = False\n",
    "        else:\n",
    "            draw(draw_info, sorting_algo_name, ascending)\n",
    "\n",
    "        for event in pygame.event.get():\n",
    "            if event.type == pygame.QUIT:\n",
    "                run = False\n",
    "\n",
    "            if event.type != pygame.KEYDOWN:\n",
    "                continue\n",
    "\n",
    "            if event.key == pygame.K_r:\n",
    "                lst = generate_starting_list(n, min_val, max_val)\n",
    "                draw_info.set_list(lst)\n",
    "                sorting = False\n",
    "            elif event.key == pygame.K_SPACE and sorting == False:\n",
    "                sorting = True\n",
    "                sorting_algorithm_generator = sorting_algorithm(draw_info, ascending)\n",
    "            elif event.key == pygame.K_a and not sorting:\n",
    "                ascending = True\n",
    "            elif event.key == pygame.K_d and not sorting:\n",
    "                ascending = False\n",
    "            elif event.key == pygame.K_i and not sorting:\n",
    "                sorting_algorithm = insertion_sort\n",
    "                sorting_algo_name = \"Insertion Sort\"\n",
    "            elif event.key == pygame.K_b and not sorting:\n",
    "                sorting_algorithm = bubble_sort\n",
    "                sorting_algo_name = \"Bubble Sort\"\n",
    "\n",
    "\n",
    "    pygame.quit()"
   ]
  },
  {
   "cell_type": "markdown",
   "id": "87d21648",
   "metadata": {},
   "source": [
    "### Run"
   ]
  },
  {
   "cell_type": "code",
   "execution_count": 41,
   "id": "dd002269",
   "metadata": {},
   "outputs": [],
   "source": [
    "if __name__ == \"__main__\":\n",
    "    main()"
   ]
  },
  {
   "cell_type": "code",
   "execution_count": null,
   "id": "c6b7f04b",
   "metadata": {},
   "outputs": [],
   "source": []
  }
 ],
 "metadata": {
  "kernelspec": {
   "display_name": "Python 3 (ipykernel)",
   "language": "python",
   "name": "python3"
  },
  "language_info": {
   "codemirror_mode": {
    "name": "ipython",
    "version": 3
   },
   "file_extension": ".py",
   "mimetype": "text/x-python",
   "name": "python",
   "nbconvert_exporter": "python",
   "pygments_lexer": "ipython3",
   "version": "3.9.7"
  }
 },
 "nbformat": 4,
 "nbformat_minor": 5
}
